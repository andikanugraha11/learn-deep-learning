{
 "cells": [
  {
   "cell_type": "markdown",
   "metadata": {},
   "source": [
    "# Regression Exercise \n",
    "\n",
    "California Housing Data\n",
    "\n",
    "This data set contains information about all the block groups in California from the 1990 Census. In this sample a block group on average includes 1425.5 individuals living in a geographically compact area. \n",
    "\n",
    "The task is to aproximate the median house value of each block from the values of the rest of the variables. \n",
    "\n",
    " It has been obtained from the LIACC repository. The original page where the data set can be found is: http://www.liaad.up.pt/~ltorgo/Regression/DataSets.html.\n",
    " "
   ]
  },
  {
   "cell_type": "markdown",
   "metadata": {
    "collapsed": true
   },
   "source": [
    "The Features:\n",
    " \n",
    "* housingMedianAge: continuous. \n",
    "* totalRooms: continuous. \n",
    "* totalBedrooms: continuous. \n",
    "* population: continuous. \n",
    "* households: continuous. \n",
    "* medianIncome: continuous. \n",
    "* medianHouseValue: continuous. "
   ]
  },
  {
   "cell_type": "markdown",
   "metadata": {},
   "source": [
    "## The Data"
   ]
  },
  {
   "cell_type": "markdown",
   "metadata": {},
   "source": [
    "** Import the cal_housing_clean.csv file with pandas. Separate it into a training (70%) and testing set(30%).**"
   ]
  },
  {
   "cell_type": "code",
   "execution_count": 21,
   "metadata": {},
   "outputs": [],
   "source": [
    "import pandas as pd"
   ]
  },
  {
   "cell_type": "code",
   "execution_count": 22,
   "metadata": {},
   "outputs": [],
   "source": [
    "housing_data = pd.read_csv('cal_housing_clean-Copy1.csv')"
   ]
  },
  {
   "cell_type": "code",
   "execution_count": 23,
   "metadata": {},
   "outputs": [
    {
     "data": {
      "text/html": [
       "<div>\n",
       "<style scoped>\n",
       "    .dataframe tbody tr th:only-of-type {\n",
       "        vertical-align: middle;\n",
       "    }\n",
       "\n",
       "    .dataframe tbody tr th {\n",
       "        vertical-align: top;\n",
       "    }\n",
       "\n",
       "    .dataframe thead th {\n",
       "        text-align: right;\n",
       "    }\n",
       "</style>\n",
       "<table border=\"1\" class=\"dataframe\">\n",
       "  <thead>\n",
       "    <tr style=\"text-align: right;\">\n",
       "      <th></th>\n",
       "      <th>housingMedianAge</th>\n",
       "      <th>totalRooms</th>\n",
       "      <th>totalBedrooms</th>\n",
       "      <th>population</th>\n",
       "      <th>households</th>\n",
       "      <th>medianIncome</th>\n",
       "      <th>medianHouseValue</th>\n",
       "    </tr>\n",
       "  </thead>\n",
       "  <tbody>\n",
       "    <tr>\n",
       "      <th>0</th>\n",
       "      <td>41.0</td>\n",
       "      <td>880.0</td>\n",
       "      <td>129.0</td>\n",
       "      <td>322.0</td>\n",
       "      <td>126.0</td>\n",
       "      <td>8.3252</td>\n",
       "      <td>452600.0</td>\n",
       "    </tr>\n",
       "    <tr>\n",
       "      <th>1</th>\n",
       "      <td>21.0</td>\n",
       "      <td>7099.0</td>\n",
       "      <td>1106.0</td>\n",
       "      <td>2401.0</td>\n",
       "      <td>1138.0</td>\n",
       "      <td>8.3014</td>\n",
       "      <td>358500.0</td>\n",
       "    </tr>\n",
       "    <tr>\n",
       "      <th>2</th>\n",
       "      <td>52.0</td>\n",
       "      <td>1467.0</td>\n",
       "      <td>190.0</td>\n",
       "      <td>496.0</td>\n",
       "      <td>177.0</td>\n",
       "      <td>7.2574</td>\n",
       "      <td>352100.0</td>\n",
       "    </tr>\n",
       "    <tr>\n",
       "      <th>3</th>\n",
       "      <td>52.0</td>\n",
       "      <td>1274.0</td>\n",
       "      <td>235.0</td>\n",
       "      <td>558.0</td>\n",
       "      <td>219.0</td>\n",
       "      <td>5.6431</td>\n",
       "      <td>341300.0</td>\n",
       "    </tr>\n",
       "    <tr>\n",
       "      <th>4</th>\n",
       "      <td>52.0</td>\n",
       "      <td>1627.0</td>\n",
       "      <td>280.0</td>\n",
       "      <td>565.0</td>\n",
       "      <td>259.0</td>\n",
       "      <td>3.8462</td>\n",
       "      <td>342200.0</td>\n",
       "    </tr>\n",
       "  </tbody>\n",
       "</table>\n",
       "</div>"
      ],
      "text/plain": [
       "   housingMedianAge  totalRooms  totalBedrooms  population  households  \\\n",
       "0              41.0       880.0          129.0       322.0       126.0   \n",
       "1              21.0      7099.0         1106.0      2401.0      1138.0   \n",
       "2              52.0      1467.0          190.0       496.0       177.0   \n",
       "3              52.0      1274.0          235.0       558.0       219.0   \n",
       "4              52.0      1627.0          280.0       565.0       259.0   \n",
       "\n",
       "   medianIncome  medianHouseValue  \n",
       "0        8.3252          452600.0  \n",
       "1        8.3014          358500.0  \n",
       "2        7.2574          352100.0  \n",
       "3        5.6431          341300.0  \n",
       "4        3.8462          342200.0  "
      ]
     },
     "execution_count": 23,
     "metadata": {},
     "output_type": "execute_result"
    }
   ],
   "source": [
    "housing_data.head()"
   ]
  },
  {
   "cell_type": "code",
   "execution_count": 24,
   "metadata": {},
   "outputs": [
    {
     "data": {
      "text/html": [
       "<div>\n",
       "<style scoped>\n",
       "    .dataframe tbody tr th:only-of-type {\n",
       "        vertical-align: middle;\n",
       "    }\n",
       "\n",
       "    .dataframe tbody tr th {\n",
       "        vertical-align: top;\n",
       "    }\n",
       "\n",
       "    .dataframe thead th {\n",
       "        text-align: right;\n",
       "    }\n",
       "</style>\n",
       "<table border=\"1\" class=\"dataframe\">\n",
       "  <thead>\n",
       "    <tr style=\"text-align: right;\">\n",
       "      <th></th>\n",
       "      <th>count</th>\n",
       "      <th>mean</th>\n",
       "      <th>std</th>\n",
       "      <th>min</th>\n",
       "      <th>25%</th>\n",
       "      <th>50%</th>\n",
       "      <th>75%</th>\n",
       "      <th>max</th>\n",
       "    </tr>\n",
       "  </thead>\n",
       "  <tbody>\n",
       "    <tr>\n",
       "      <th>housingMedianAge</th>\n",
       "      <td>20640.0</td>\n",
       "      <td>28.639486</td>\n",
       "      <td>12.585558</td>\n",
       "      <td>1.0000</td>\n",
       "      <td>18.0000</td>\n",
       "      <td>29.0000</td>\n",
       "      <td>37.00000</td>\n",
       "      <td>52.0000</td>\n",
       "    </tr>\n",
       "    <tr>\n",
       "      <th>totalRooms</th>\n",
       "      <td>20640.0</td>\n",
       "      <td>2635.763081</td>\n",
       "      <td>2181.615252</td>\n",
       "      <td>2.0000</td>\n",
       "      <td>1447.7500</td>\n",
       "      <td>2127.0000</td>\n",
       "      <td>3148.00000</td>\n",
       "      <td>39320.0000</td>\n",
       "    </tr>\n",
       "    <tr>\n",
       "      <th>totalBedrooms</th>\n",
       "      <td>20640.0</td>\n",
       "      <td>537.898014</td>\n",
       "      <td>421.247906</td>\n",
       "      <td>1.0000</td>\n",
       "      <td>295.0000</td>\n",
       "      <td>435.0000</td>\n",
       "      <td>647.00000</td>\n",
       "      <td>6445.0000</td>\n",
       "    </tr>\n",
       "    <tr>\n",
       "      <th>population</th>\n",
       "      <td>20640.0</td>\n",
       "      <td>1425.476744</td>\n",
       "      <td>1132.462122</td>\n",
       "      <td>3.0000</td>\n",
       "      <td>787.0000</td>\n",
       "      <td>1166.0000</td>\n",
       "      <td>1725.00000</td>\n",
       "      <td>35682.0000</td>\n",
       "    </tr>\n",
       "    <tr>\n",
       "      <th>households</th>\n",
       "      <td>20640.0</td>\n",
       "      <td>499.539680</td>\n",
       "      <td>382.329753</td>\n",
       "      <td>1.0000</td>\n",
       "      <td>280.0000</td>\n",
       "      <td>409.0000</td>\n",
       "      <td>605.00000</td>\n",
       "      <td>6082.0000</td>\n",
       "    </tr>\n",
       "    <tr>\n",
       "      <th>medianIncome</th>\n",
       "      <td>20640.0</td>\n",
       "      <td>3.870671</td>\n",
       "      <td>1.899822</td>\n",
       "      <td>0.4999</td>\n",
       "      <td>2.5634</td>\n",
       "      <td>3.5348</td>\n",
       "      <td>4.74325</td>\n",
       "      <td>15.0001</td>\n",
       "    </tr>\n",
       "    <tr>\n",
       "      <th>medianHouseValue</th>\n",
       "      <td>20640.0</td>\n",
       "      <td>206855.816909</td>\n",
       "      <td>115395.615874</td>\n",
       "      <td>14999.0000</td>\n",
       "      <td>119600.0000</td>\n",
       "      <td>179700.0000</td>\n",
       "      <td>264725.00000</td>\n",
       "      <td>500001.0000</td>\n",
       "    </tr>\n",
       "  </tbody>\n",
       "</table>\n",
       "</div>"
      ],
      "text/plain": [
       "                    count           mean            std         min  \\\n",
       "housingMedianAge  20640.0      28.639486      12.585558      1.0000   \n",
       "totalRooms        20640.0    2635.763081    2181.615252      2.0000   \n",
       "totalBedrooms     20640.0     537.898014     421.247906      1.0000   \n",
       "population        20640.0    1425.476744    1132.462122      3.0000   \n",
       "households        20640.0     499.539680     382.329753      1.0000   \n",
       "medianIncome      20640.0       3.870671       1.899822      0.4999   \n",
       "medianHouseValue  20640.0  206855.816909  115395.615874  14999.0000   \n",
       "\n",
       "                          25%          50%           75%          max  \n",
       "housingMedianAge      18.0000      29.0000      37.00000      52.0000  \n",
       "totalRooms          1447.7500    2127.0000    3148.00000   39320.0000  \n",
       "totalBedrooms        295.0000     435.0000     647.00000    6445.0000  \n",
       "population           787.0000    1166.0000    1725.00000   35682.0000  \n",
       "households           280.0000     409.0000     605.00000    6082.0000  \n",
       "medianIncome           2.5634       3.5348       4.74325      15.0001  \n",
       "medianHouseValue  119600.0000  179700.0000  264725.00000  500001.0000  "
      ]
     },
     "execution_count": 24,
     "metadata": {},
     "output_type": "execute_result"
    }
   ],
   "source": [
    "housing_data.describe().transpose()"
   ]
  },
  {
   "cell_type": "code",
   "execution_count": 25,
   "metadata": {
    "scrolled": true
   },
   "outputs": [],
   "source": [
    "x_data = housing_data.drop(['medianHouseValue'], axis=1)"
   ]
  },
  {
   "cell_type": "code",
   "execution_count": 26,
   "metadata": {},
   "outputs": [],
   "source": [
    "y_val = housing_data['medianHouseValue']"
   ]
  },
  {
   "cell_type": "code",
   "execution_count": 27,
   "metadata": {},
   "outputs": [],
   "source": [
    "from sklearn.model_selection import train_test_split"
   ]
  },
  {
   "cell_type": "code",
   "execution_count": 28,
   "metadata": {},
   "outputs": [],
   "source": [
    "X_train, X_test, y_train, y_test = train_test_split(x_data,y_val,test_size=0.3,random_state=101)"
   ]
  },
  {
   "cell_type": "markdown",
   "metadata": {},
   "source": [
    "### Scale the Feature Data\n",
    "\n",
    "** Use sklearn preprocessing to create a MinMaxScaler for the feature data. Fit this scaler only to the training data. Then use it to transform X_test and X_train. Then use the scaled X_test and X_train along with pd.Dataframe to re-create two dataframes of scaled data.**"
   ]
  },
  {
   "cell_type": "code",
   "execution_count": 29,
   "metadata": {},
   "outputs": [],
   "source": [
    "from sklearn.preprocessing import MinMaxScaler"
   ]
  },
  {
   "cell_type": "code",
   "execution_count": 31,
   "metadata": {},
   "outputs": [],
   "source": [
    "scaler = MinMaxScaler()"
   ]
  },
  {
   "cell_type": "code",
   "execution_count": 39,
   "metadata": {},
   "outputs": [
    {
     "data": {
      "text/plain": [
       "MinMaxScaler(copy=True, feature_range=(0, 1))"
      ]
     },
     "execution_count": 39,
     "metadata": {},
     "output_type": "execute_result"
    }
   ],
   "source": [
    "scaler.fit(X_train)"
   ]
  },
  {
   "cell_type": "code",
   "execution_count": 43,
   "metadata": {},
   "outputs": [],
   "source": [
    "X_train = pd.DataFrame(data=scaler.transform(X_train), columns=X_train.columns, index=X_train.index)"
   ]
  },
  {
   "cell_type": "code",
   "execution_count": 45,
   "metadata": {},
   "outputs": [],
   "source": [
    "X_test = pd.DataFrame(data=scaler.transform(X_test),columns = X_test.columns,index=X_test.index)"
   ]
  },
  {
   "cell_type": "markdown",
   "metadata": {},
   "source": [
    "### Create Feature Columns\n",
    "\n",
    "** Create the necessary tf.feature_column objects for the estimator. They should all be trated as continuous numeric_columns. **"
   ]
  },
  {
   "cell_type": "code",
   "execution_count": 46,
   "metadata": {},
   "outputs": [
    {
     "data": {
      "text/plain": [
       "Index(['housingMedianAge', 'totalRooms', 'totalBedrooms', 'population',\n",
       "       'households', 'medianIncome', 'medianHouseValue'],\n",
       "      dtype='object')"
      ]
     },
     "execution_count": 46,
     "metadata": {},
     "output_type": "execute_result"
    }
   ],
   "source": [
    "housing_data.columns"
   ]
  },
  {
   "cell_type": "code",
   "execution_count": 47,
   "metadata": {},
   "outputs": [],
   "source": [
    "import tensorflow as tf"
   ]
  },
  {
   "cell_type": "code",
   "execution_count": 48,
   "metadata": {},
   "outputs": [],
   "source": [
    "age = tf.feature_column.numeric_column('housingMedianAge')\n",
    "rooms = tf.feature_column.numeric_column('totalRooms')\n",
    "bedrooms = tf.feature_column.numeric_column('totalBedrooms')\n",
    "pop = tf.feature_column.numeric_column('population')\n",
    "households = tf.feature_column.numeric_column('households')\n",
    "income = tf.feature_column.numeric_column('medianIncome')"
   ]
  },
  {
   "cell_type": "code",
   "execution_count": 49,
   "metadata": {},
   "outputs": [],
   "source": [
    "feat_cols = [ age,rooms,bedrooms,pop,households,income]"
   ]
  },
  {
   "cell_type": "markdown",
   "metadata": {},
   "source": [
    "** Create the input function for the estimator object. (play around with batch_size and num_epochs)**"
   ]
  },
  {
   "cell_type": "code",
   "execution_count": 50,
   "metadata": {},
   "outputs": [],
   "source": [
    "input_func = tf.estimator.inputs.pandas_input_fn(x=X_train, y=y_train, batch_size=10, num_epochs=1000, shuffle=True)"
   ]
  },
  {
   "cell_type": "markdown",
   "metadata": {},
   "source": [
    "** Create the estimator model. Use a DNNRegressor. Play around with the hidden units! **"
   ]
  },
  {
   "cell_type": "code",
   "execution_count": 51,
   "metadata": {},
   "outputs": [
    {
     "name": "stdout",
     "output_type": "stream",
     "text": [
      "INFO:tensorflow:Using default config.\n",
      "WARNING:tensorflow:Using temporary folder as model directory: /tmp/tmpf9tikfya\n",
      "INFO:tensorflow:Using config: {'_model_dir': '/tmp/tmpf9tikfya', '_tf_random_seed': None, '_save_summary_steps': 100, '_save_checkpoints_steps': None, '_save_checkpoints_secs': 600, '_session_config': None, '_keep_checkpoint_max': 5, '_keep_checkpoint_every_n_hours': 10000, '_log_step_count_steps': 100, '_train_distribute': None, '_service': None, '_cluster_spec': <tensorflow.python.training.server_lib.ClusterSpec object at 0x7f46a7fb4978>, '_task_type': 'worker', '_task_id': 0, '_global_id_in_cluster': 0, '_master': '', '_evaluation_master': '', '_is_chief': True, '_num_ps_replicas': 0, '_num_worker_replicas': 1}\n"
     ]
    }
   ],
   "source": [
    "model = tf.estimator.DNNRegressor(hidden_units=[6,6,6], feature_columns=feat_cols)"
   ]
  },
  {
   "cell_type": "markdown",
   "metadata": {},
   "source": [
    "##### ** Train the model for ~1,000 steps. (Later come back to this and train it for more and check for improvement) **"
   ]
  },
  {
   "cell_type": "code",
   "execution_count": 52,
   "metadata": {},
   "outputs": [
    {
     "name": "stdout",
     "output_type": "stream",
     "text": [
      "INFO:tensorflow:Calling model_fn.\n",
      "INFO:tensorflow:Done calling model_fn.\n",
      "INFO:tensorflow:Create CheckpointSaverHook.\n",
      "INFO:tensorflow:Graph was finalized.\n",
      "INFO:tensorflow:Running local_init_op.\n",
      "INFO:tensorflow:Done running local_init_op.\n",
      "INFO:tensorflow:Saving checkpoints for 1 into /tmp/tmpf9tikfya/model.ckpt.\n",
      "INFO:tensorflow:loss = 698605700000.0, step = 0\n",
      "INFO:tensorflow:global_step/sec: 273.434\n",
      "INFO:tensorflow:loss = 677320070000.0, step = 100 (0.348 sec)\n",
      "INFO:tensorflow:global_step/sec: 322.142\n",
      "INFO:tensorflow:loss = 486659160000.0, step = 200 (0.310 sec)\n",
      "INFO:tensorflow:global_step/sec: 322.123\n",
      "INFO:tensorflow:loss = 461055850000.0, step = 300 (0.309 sec)\n",
      "INFO:tensorflow:global_step/sec: 323.798\n",
      "INFO:tensorflow:loss = 541587960000.0, step = 400 (0.309 sec)\n",
      "INFO:tensorflow:global_step/sec: 313.721\n",
      "INFO:tensorflow:loss = 575096750000.0, step = 500 (0.319 sec)\n",
      "INFO:tensorflow:global_step/sec: 347.882\n",
      "INFO:tensorflow:loss = 577663800000.0, step = 600 (0.288 sec)\n",
      "INFO:tensorflow:global_step/sec: 324.585\n",
      "INFO:tensorflow:loss = 276281500000.0, step = 700 (0.308 sec)\n",
      "INFO:tensorflow:global_step/sec: 339.076\n",
      "INFO:tensorflow:loss = 353501600000.0, step = 800 (0.295 sec)\n",
      "INFO:tensorflow:global_step/sec: 320.171\n",
      "INFO:tensorflow:loss = 661984400000.0, step = 900 (0.313 sec)\n",
      "INFO:tensorflow:global_step/sec: 331.361\n",
      "INFO:tensorflow:loss = 476754020000.0, step = 1000 (0.301 sec)\n",
      "INFO:tensorflow:global_step/sec: 344.081\n",
      "INFO:tensorflow:loss = 176830450000.0, step = 1100 (0.291 sec)\n",
      "INFO:tensorflow:global_step/sec: 309.74\n",
      "INFO:tensorflow:loss = 297393650000.0, step = 1200 (0.324 sec)\n",
      "INFO:tensorflow:global_step/sec: 297.16\n",
      "INFO:tensorflow:loss = 274912380000.0, step = 1300 (0.335 sec)\n",
      "INFO:tensorflow:global_step/sec: 325.033\n",
      "INFO:tensorflow:loss = 302992650000.0, step = 1400 (0.309 sec)\n",
      "INFO:tensorflow:global_step/sec: 323.755\n",
      "INFO:tensorflow:loss = 291068500000.0, step = 1500 (0.308 sec)\n",
      "INFO:tensorflow:global_step/sec: 326.273\n",
      "INFO:tensorflow:loss = 232084080000.0, step = 1600 (0.308 sec)\n",
      "INFO:tensorflow:global_step/sec: 317.188\n",
      "INFO:tensorflow:loss = 159568330000.0, step = 1700 (0.315 sec)\n",
      "INFO:tensorflow:global_step/sec: 319.817\n",
      "INFO:tensorflow:loss = 405650800000.0, step = 1800 (0.313 sec)\n",
      "INFO:tensorflow:global_step/sec: 322.691\n",
      "INFO:tensorflow:loss = 145995610000.0, step = 1900 (0.308 sec)\n",
      "INFO:tensorflow:global_step/sec: 305.186\n",
      "INFO:tensorflow:loss = 131111850000.0, step = 2000 (0.327 sec)\n",
      "INFO:tensorflow:global_step/sec: 314.133\n",
      "INFO:tensorflow:loss = 172053770000.0, step = 2100 (0.318 sec)\n",
      "INFO:tensorflow:global_step/sec: 338.822\n",
      "INFO:tensorflow:loss = 250652920000.0, step = 2200 (0.297 sec)\n",
      "INFO:tensorflow:global_step/sec: 330.415\n",
      "INFO:tensorflow:loss = 137792030000.0, step = 2300 (0.301 sec)\n",
      "INFO:tensorflow:global_step/sec: 325.599\n",
      "INFO:tensorflow:loss = 37314507000.0, step = 2400 (0.308 sec)\n",
      "INFO:tensorflow:global_step/sec: 324.693\n",
      "INFO:tensorflow:loss = 161161450000.0, step = 2500 (0.307 sec)\n",
      "INFO:tensorflow:global_step/sec: 299.058\n",
      "INFO:tensorflow:loss = 129901800000.0, step = 2600 (0.336 sec)\n",
      "INFO:tensorflow:global_step/sec: 313.554\n",
      "INFO:tensorflow:loss = 170949210000.0, step = 2700 (0.318 sec)\n",
      "INFO:tensorflow:global_step/sec: 323.169\n",
      "INFO:tensorflow:loss = 86967280000.0, step = 2800 (0.311 sec)\n",
      "INFO:tensorflow:global_step/sec: 327.912\n",
      "INFO:tensorflow:loss = 96734730000.0, step = 2900 (0.304 sec)\n",
      "INFO:tensorflow:global_step/sec: 318.835\n",
      "INFO:tensorflow:loss = 133622194000.0, step = 3000 (0.312 sec)\n",
      "INFO:tensorflow:global_step/sec: 291.612\n",
      "INFO:tensorflow:loss = 137257940000.0, step = 3100 (0.343 sec)\n",
      "INFO:tensorflow:global_step/sec: 333.754\n",
      "INFO:tensorflow:loss = 66858600000.0, step = 3200 (0.305 sec)\n",
      "INFO:tensorflow:global_step/sec: 292.682\n",
      "INFO:tensorflow:loss = 161364410000.0, step = 3300 (0.336 sec)\n",
      "INFO:tensorflow:global_step/sec: 345.901\n",
      "INFO:tensorflow:loss = 97110730000.0, step = 3400 (0.291 sec)\n",
      "INFO:tensorflow:global_step/sec: 327.681\n",
      "INFO:tensorflow:loss = 28028844000.0, step = 3500 (0.303 sec)\n",
      "INFO:tensorflow:global_step/sec: 349.169\n",
      "INFO:tensorflow:loss = 56447398000.0, step = 3600 (0.289 sec)\n",
      "INFO:tensorflow:global_step/sec: 320.241\n",
      "INFO:tensorflow:loss = 115323350000.0, step = 3700 (0.310 sec)\n",
      "INFO:tensorflow:global_step/sec: 345.879\n",
      "INFO:tensorflow:loss = 43506190000.0, step = 3800 (0.291 sec)\n",
      "INFO:tensorflow:global_step/sec: 325.136\n",
      "INFO:tensorflow:loss = 160165800000.0, step = 3900 (0.306 sec)\n",
      "INFO:tensorflow:global_step/sec: 323.889\n",
      "INFO:tensorflow:loss = 88470720000.0, step = 4000 (0.310 sec)\n",
      "INFO:tensorflow:global_step/sec: 295.792\n",
      "INFO:tensorflow:loss = 48169590000.0, step = 4100 (0.337 sec)\n",
      "INFO:tensorflow:global_step/sec: 244.994\n",
      "INFO:tensorflow:loss = 87959550000.0, step = 4200 (0.411 sec)\n",
      "INFO:tensorflow:global_step/sec: 172.208\n",
      "INFO:tensorflow:loss = 59617750000.0, step = 4300 (0.578 sec)\n",
      "INFO:tensorflow:global_step/sec: 141.953\n",
      "INFO:tensorflow:loss = 43156038000.0, step = 4400 (0.704 sec)\n",
      "INFO:tensorflow:global_step/sec: 142.13\n",
      "INFO:tensorflow:loss = 150701930000.0, step = 4500 (0.712 sec)\n",
      "INFO:tensorflow:global_step/sec: 266.498\n",
      "INFO:tensorflow:loss = 222981160000.0, step = 4600 (0.367 sec)\n",
      "INFO:tensorflow:global_step/sec: 320.046\n",
      "INFO:tensorflow:loss = 108499250000.0, step = 4700 (0.314 sec)\n",
      "INFO:tensorflow:global_step/sec: 327.953\n",
      "INFO:tensorflow:loss = 85094770000.0, step = 4800 (0.303 sec)\n",
      "INFO:tensorflow:global_step/sec: 337.001\n",
      "INFO:tensorflow:loss = 98464790000.0, step = 4900 (0.297 sec)\n",
      "INFO:tensorflow:global_step/sec: 306.998\n",
      "INFO:tensorflow:loss = 59510580000.0, step = 5000 (0.328 sec)\n",
      "INFO:tensorflow:global_step/sec: 338.786\n",
      "INFO:tensorflow:loss = 87590200000.0, step = 5100 (0.293 sec)\n",
      "INFO:tensorflow:global_step/sec: 201.446\n",
      "INFO:tensorflow:loss = 117836140000.0, step = 5200 (0.514 sec)\n",
      "INFO:tensorflow:global_step/sec: 240.341\n",
      "INFO:tensorflow:loss = 74338150000.0, step = 5300 (0.399 sec)\n",
      "INFO:tensorflow:global_step/sec: 196.199\n",
      "INFO:tensorflow:loss = 104395874000.0, step = 5400 (0.509 sec)\n",
      "INFO:tensorflow:global_step/sec: 167.036\n",
      "INFO:tensorflow:loss = 35214320000.0, step = 5500 (0.600 sec)\n",
      "INFO:tensorflow:global_step/sec: 190.098\n",
      "INFO:tensorflow:loss = 69979820000.0, step = 5600 (0.530 sec)\n",
      "INFO:tensorflow:global_step/sec: 271.503\n",
      "INFO:tensorflow:loss = 91487110000.0, step = 5700 (0.363 sec)\n",
      "INFO:tensorflow:global_step/sec: 269.929\n",
      "INFO:tensorflow:loss = 178649380000.0, step = 5800 (0.373 sec)\n",
      "INFO:tensorflow:global_step/sec: 229.814\n",
      "INFO:tensorflow:loss = 118241800000.0, step = 5900 (0.435 sec)\n",
      "INFO:tensorflow:global_step/sec: 279.266\n",
      "INFO:tensorflow:loss = 64434880000.0, step = 6000 (0.357 sec)\n",
      "INFO:tensorflow:global_step/sec: 206.673\n",
      "INFO:tensorflow:loss = 52853547000.0, step = 6100 (0.484 sec)\n",
      "INFO:tensorflow:global_step/sec: 317.817\n",
      "INFO:tensorflow:loss = 45739975000.0, step = 6200 (0.313 sec)\n",
      "INFO:tensorflow:global_step/sec: 312.002\n",
      "INFO:tensorflow:loss = 41583698000.0, step = 6300 (0.320 sec)\n",
      "INFO:tensorflow:global_step/sec: 249.766\n",
      "INFO:tensorflow:loss = 43122823000.0, step = 6400 (0.401 sec)\n",
      "INFO:tensorflow:global_step/sec: 258.105\n",
      "INFO:tensorflow:loss = 111282780000.0, step = 6500 (0.387 sec)\n",
      "INFO:tensorflow:global_step/sec: 311.216\n",
      "INFO:tensorflow:loss = 47084122000.0, step = 6600 (0.322 sec)\n",
      "INFO:tensorflow:global_step/sec: 324.631\n",
      "INFO:tensorflow:loss = 117307605000.0, step = 6700 (0.309 sec)\n",
      "INFO:tensorflow:global_step/sec: 261.956\n",
      "INFO:tensorflow:loss = 55805694000.0, step = 6800 (0.381 sec)\n",
      "INFO:tensorflow:global_step/sec: 237.055\n",
      "INFO:tensorflow:loss = 104863490000.0, step = 6900 (0.422 sec)\n",
      "INFO:tensorflow:global_step/sec: 289.145\n",
      "INFO:tensorflow:loss = 44525584000.0, step = 7000 (0.344 sec)\n",
      "INFO:tensorflow:global_step/sec: 325.622\n",
      "INFO:tensorflow:loss = 60462510000.0, step = 7100 (0.307 sec)\n",
      "INFO:tensorflow:global_step/sec: 327.152\n",
      "INFO:tensorflow:loss = 93957800000.0, step = 7200 (0.306 sec)\n",
      "INFO:tensorflow:global_step/sec: 291.107\n",
      "INFO:tensorflow:loss = 111258630000.0, step = 7300 (0.345 sec)\n",
      "INFO:tensorflow:global_step/sec: 299.839\n",
      "INFO:tensorflow:loss = 143541100000.0, step = 7400 (0.334 sec)\n",
      "INFO:tensorflow:global_step/sec: 320.145\n",
      "INFO:tensorflow:loss = 101781920000.0, step = 7500 (0.312 sec)\n",
      "INFO:tensorflow:global_step/sec: 310.62\n",
      "INFO:tensorflow:loss = 139688790000.0, step = 7600 (0.320 sec)\n"
     ]
    },
    {
     "name": "stdout",
     "output_type": "stream",
     "text": [
      "INFO:tensorflow:global_step/sec: 222.756\n",
      "INFO:tensorflow:loss = 140248320000.0, step = 7700 (0.449 sec)\n",
      "INFO:tensorflow:global_step/sec: 233.337\n",
      "INFO:tensorflow:loss = 98129920000.0, step = 7800 (0.431 sec)\n",
      "INFO:tensorflow:global_step/sec: 197.676\n",
      "INFO:tensorflow:loss = 54441107000.0, step = 7900 (0.506 sec)\n",
      "INFO:tensorflow:global_step/sec: 299.845\n",
      "INFO:tensorflow:loss = 124369300000.0, step = 8000 (0.333 sec)\n",
      "INFO:tensorflow:global_step/sec: 245.113\n",
      "INFO:tensorflow:loss = 107761340000.0, step = 8100 (0.409 sec)\n",
      "INFO:tensorflow:global_step/sec: 306.608\n",
      "INFO:tensorflow:loss = 74648250000.0, step = 8200 (0.323 sec)\n",
      "INFO:tensorflow:global_step/sec: 262.425\n",
      "INFO:tensorflow:loss = 91324190000.0, step = 8300 (0.382 sec)\n",
      "INFO:tensorflow:global_step/sec: 301.065\n",
      "INFO:tensorflow:loss = 131440630000.0, step = 8400 (0.331 sec)\n",
      "INFO:tensorflow:global_step/sec: 260.318\n",
      "INFO:tensorflow:loss = 72378474000.0, step = 8500 (0.384 sec)\n",
      "INFO:tensorflow:global_step/sec: 300.928\n",
      "INFO:tensorflow:loss = 235393350000.0, step = 8600 (0.336 sec)\n",
      "INFO:tensorflow:global_step/sec: 293.928\n",
      "INFO:tensorflow:loss = 115492070000.0, step = 8700 (0.336 sec)\n",
      "INFO:tensorflow:global_step/sec: 256.148\n",
      "INFO:tensorflow:loss = 153551390000.0, step = 8800 (0.391 sec)\n",
      "INFO:tensorflow:global_step/sec: 213.236\n",
      "INFO:tensorflow:loss = 143912930000.0, step = 8900 (0.469 sec)\n",
      "INFO:tensorflow:global_step/sec: 287.488\n",
      "INFO:tensorflow:loss = 133289420000.0, step = 9000 (0.347 sec)\n",
      "INFO:tensorflow:global_step/sec: 286.932\n",
      "INFO:tensorflow:loss = 157615490000.0, step = 9100 (0.349 sec)\n",
      "INFO:tensorflow:global_step/sec: 330.906\n",
      "INFO:tensorflow:loss = 28441809000.0, step = 9200 (0.304 sec)\n",
      "INFO:tensorflow:global_step/sec: 315.6\n",
      "INFO:tensorflow:loss = 68625990000.0, step = 9300 (0.317 sec)\n",
      "INFO:tensorflow:global_step/sec: 297.245\n",
      "INFO:tensorflow:loss = 148222500000.0, step = 9400 (0.336 sec)\n",
      "INFO:tensorflow:global_step/sec: 295.37\n",
      "INFO:tensorflow:loss = 161058720000.0, step = 9500 (0.338 sec)\n",
      "INFO:tensorflow:global_step/sec: 280.548\n",
      "INFO:tensorflow:loss = 119949420000.0, step = 9600 (0.358 sec)\n",
      "INFO:tensorflow:global_step/sec: 302.155\n",
      "INFO:tensorflow:loss = 79700650000.0, step = 9700 (0.331 sec)\n",
      "INFO:tensorflow:global_step/sec: 233.239\n",
      "INFO:tensorflow:loss = 54192976000.0, step = 9800 (0.427 sec)\n",
      "INFO:tensorflow:global_step/sec: 314.271\n",
      "INFO:tensorflow:loss = 91609285000.0, step = 9900 (0.319 sec)\n",
      "INFO:tensorflow:global_step/sec: 319.922\n",
      "INFO:tensorflow:loss = 44185272000.0, step = 10000 (0.313 sec)\n",
      "INFO:tensorflow:global_step/sec: 322.655\n",
      "INFO:tensorflow:loss = 119149240000.0, step = 10100 (0.309 sec)\n",
      "INFO:tensorflow:global_step/sec: 314.421\n",
      "INFO:tensorflow:loss = 284797100000.0, step = 10200 (0.317 sec)\n",
      "INFO:tensorflow:global_step/sec: 349.666\n",
      "INFO:tensorflow:loss = 34626670000.0, step = 10300 (0.286 sec)\n",
      "INFO:tensorflow:global_step/sec: 334.012\n",
      "INFO:tensorflow:loss = 94816020000.0, step = 10400 (0.300 sec)\n",
      "INFO:tensorflow:global_step/sec: 304.249\n",
      "INFO:tensorflow:loss = 276193940000.0, step = 10500 (0.328 sec)\n",
      "INFO:tensorflow:global_step/sec: 315.65\n",
      "INFO:tensorflow:loss = 152599970000.0, step = 10600 (0.318 sec)\n",
      "INFO:tensorflow:global_step/sec: 326.573\n",
      "INFO:tensorflow:loss = 76174330000.0, step = 10700 (0.306 sec)\n",
      "INFO:tensorflow:global_step/sec: 328.816\n",
      "INFO:tensorflow:loss = 94371030000.0, step = 10800 (0.304 sec)\n",
      "INFO:tensorflow:global_step/sec: 319.841\n",
      "INFO:tensorflow:loss = 104201120000.0, step = 10900 (0.314 sec)\n",
      "INFO:tensorflow:global_step/sec: 276.833\n",
      "INFO:tensorflow:loss = 32932403000.0, step = 11000 (0.360 sec)\n",
      "INFO:tensorflow:global_step/sec: 301.075\n",
      "INFO:tensorflow:loss = 30854996000.0, step = 11100 (0.337 sec)\n",
      "INFO:tensorflow:global_step/sec: 296.86\n",
      "INFO:tensorflow:loss = 86875410000.0, step = 11200 (0.339 sec)\n",
      "INFO:tensorflow:global_step/sec: 279.767\n",
      "INFO:tensorflow:loss = 115577280000.0, step = 11300 (0.350 sec)\n",
      "INFO:tensorflow:global_step/sec: 248.789\n",
      "INFO:tensorflow:loss = 143656030000.0, step = 11400 (0.405 sec)\n",
      "INFO:tensorflow:global_step/sec: 224.76\n",
      "INFO:tensorflow:loss = 146240010000.0, step = 11500 (0.443 sec)\n",
      "INFO:tensorflow:global_step/sec: 315.805\n",
      "INFO:tensorflow:loss = 71678630000.0, step = 11600 (0.319 sec)\n",
      "INFO:tensorflow:global_step/sec: 316.972\n",
      "INFO:tensorflow:loss = 71794410000.0, step = 11700 (0.313 sec)\n",
      "INFO:tensorflow:global_step/sec: 332.701\n",
      "INFO:tensorflow:loss = 101055880000.0, step = 11800 (0.301 sec)\n",
      "INFO:tensorflow:global_step/sec: 320.56\n",
      "INFO:tensorflow:loss = 229724290000.0, step = 11900 (0.311 sec)\n",
      "INFO:tensorflow:global_step/sec: 320.512\n",
      "INFO:tensorflow:loss = 81318715000.0, step = 12000 (0.313 sec)\n",
      "INFO:tensorflow:global_step/sec: 318.926\n",
      "INFO:tensorflow:loss = 52680910000.0, step = 12100 (0.314 sec)\n",
      "INFO:tensorflow:global_step/sec: 319.704\n",
      "INFO:tensorflow:loss = 84597660000.0, step = 12200 (0.311 sec)\n",
      "INFO:tensorflow:global_step/sec: 320.365\n",
      "INFO:tensorflow:loss = 147676480000.0, step = 12300 (0.314 sec)\n",
      "INFO:tensorflow:global_step/sec: 309.272\n",
      "INFO:tensorflow:loss = 161379020000.0, step = 12400 (0.322 sec)\n",
      "INFO:tensorflow:global_step/sec: 347.07\n",
      "INFO:tensorflow:loss = 28073484000.0, step = 12500 (0.289 sec)\n",
      "INFO:tensorflow:global_step/sec: 315.248\n",
      "INFO:tensorflow:loss = 57305490000.0, step = 12600 (0.317 sec)\n",
      "INFO:tensorflow:global_step/sec: 312.853\n",
      "INFO:tensorflow:loss = 70044975000.0, step = 12700 (0.321 sec)\n",
      "INFO:tensorflow:global_step/sec: 314.21\n",
      "INFO:tensorflow:loss = 100227220000.0, step = 12800 (0.318 sec)\n",
      "INFO:tensorflow:global_step/sec: 325.328\n",
      "INFO:tensorflow:loss = 90707500000.0, step = 12900 (0.306 sec)\n",
      "INFO:tensorflow:global_step/sec: 313.509\n",
      "INFO:tensorflow:loss = 111171560000.0, step = 13000 (0.320 sec)\n",
      "INFO:tensorflow:global_step/sec: 299.091\n",
      "INFO:tensorflow:loss = 71909040000.0, step = 13100 (0.332 sec)\n",
      "INFO:tensorflow:global_step/sec: 307.851\n",
      "INFO:tensorflow:loss = 167765110000.0, step = 13200 (0.327 sec)\n",
      "INFO:tensorflow:global_step/sec: 312.376\n",
      "INFO:tensorflow:loss = 161074540000.0, step = 13300 (0.318 sec)\n",
      "INFO:tensorflow:global_step/sec: 340.083\n",
      "INFO:tensorflow:loss = 103703360000.0, step = 13400 (0.295 sec)\n",
      "INFO:tensorflow:global_step/sec: 315.521\n",
      "INFO:tensorflow:loss = 96844220000.0, step = 13500 (0.318 sec)\n",
      "INFO:tensorflow:global_step/sec: 321.395\n",
      "INFO:tensorflow:loss = 133164390000.0, step = 13600 (0.311 sec)\n",
      "INFO:tensorflow:global_step/sec: 317.919\n",
      "INFO:tensorflow:loss = 78071100000.0, step = 13700 (0.314 sec)\n",
      "INFO:tensorflow:global_step/sec: 312.132\n",
      "INFO:tensorflow:loss = 36657857000.0, step = 13800 (0.321 sec)\n",
      "INFO:tensorflow:global_step/sec: 311.921\n",
      "INFO:tensorflow:loss = 111417460000.0, step = 13900 (0.319 sec)\n",
      "INFO:tensorflow:global_step/sec: 306.282\n",
      "INFO:tensorflow:loss = 56749048000.0, step = 14000 (0.327 sec)\n",
      "INFO:tensorflow:global_step/sec: 315.008\n",
      "INFO:tensorflow:loss = 39282598000.0, step = 14100 (0.316 sec)\n",
      "INFO:tensorflow:global_step/sec: 348.505\n",
      "INFO:tensorflow:loss = 180870640000.0, step = 14200 (0.289 sec)\n",
      "INFO:tensorflow:global_step/sec: 313.526\n",
      "INFO:tensorflow:loss = 154007900000.0, step = 14300 (0.317 sec)\n",
      "INFO:tensorflow:global_step/sec: 317.903\n",
      "INFO:tensorflow:loss = 42589356000.0, step = 14400 (0.315 sec)\n",
      "INFO:tensorflow:global_step/sec: 315.638\n",
      "INFO:tensorflow:loss = 171831020000.0, step = 14500 (0.318 sec)\n",
      "INFO:tensorflow:global_step/sec: 315.575\n",
      "INFO:tensorflow:loss = 107322870000.0, step = 14600 (0.316 sec)\n",
      "INFO:tensorflow:global_step/sec: 315.235\n",
      "INFO:tensorflow:loss = 53806526000.0, step = 14700 (0.317 sec)\n",
      "INFO:tensorflow:global_step/sec: 325.069\n",
      "INFO:tensorflow:loss = 60515697000.0, step = 14800 (0.307 sec)\n",
      "INFO:tensorflow:global_step/sec: 308.053\n",
      "INFO:tensorflow:loss = 50752230000.0, step = 14900 (0.323 sec)\n",
      "INFO:tensorflow:global_step/sec: 330.934\n",
      "INFO:tensorflow:loss = 225917680000.0, step = 15000 (0.302 sec)\n",
      "INFO:tensorflow:global_step/sec: 314.591\n",
      "INFO:tensorflow:loss = 83146190000.0, step = 15100 (0.319 sec)\n",
      "INFO:tensorflow:global_step/sec: 317.36\n",
      "INFO:tensorflow:loss = 268412190000.0, step = 15200 (0.316 sec)\n",
      "INFO:tensorflow:global_step/sec: 310.977\n",
      "INFO:tensorflow:loss = 133328320000.0, step = 15300 (0.321 sec)\n",
      "INFO:tensorflow:global_step/sec: 314.173\n",
      "INFO:tensorflow:loss = 129989350000.0, step = 15400 (0.319 sec)\n",
      "INFO:tensorflow:global_step/sec: 311.893\n",
      "INFO:tensorflow:loss = 91447670000.0, step = 15500 (0.319 sec)\n"
     ]
    },
    {
     "name": "stdout",
     "output_type": "stream",
     "text": [
      "INFO:tensorflow:global_step/sec: 315.183\n",
      "INFO:tensorflow:loss = 127107424000.0, step = 15600 (0.317 sec)\n",
      "INFO:tensorflow:global_step/sec: 348.852\n",
      "INFO:tensorflow:loss = 145164730000.0, step = 15700 (0.288 sec)\n",
      "INFO:tensorflow:global_step/sec: 320.94\n",
      "INFO:tensorflow:loss = 141202720000.0, step = 15800 (0.312 sec)\n",
      "INFO:tensorflow:global_step/sec: 302.577\n",
      "INFO:tensorflow:loss = 285633970000.0, step = 15900 (0.329 sec)\n",
      "INFO:tensorflow:global_step/sec: 327.727\n",
      "INFO:tensorflow:loss = 53977260000.0, step = 16000 (0.305 sec)\n",
      "INFO:tensorflow:global_step/sec: 337.217\n",
      "INFO:tensorflow:loss = 46300414000.0, step = 16100 (0.297 sec)\n",
      "INFO:tensorflow:global_step/sec: 330.501\n",
      "INFO:tensorflow:loss = 119156640000.0, step = 16200 (0.304 sec)\n",
      "INFO:tensorflow:global_step/sec: 336.899\n",
      "INFO:tensorflow:loss = 76407300000.0, step = 16300 (0.295 sec)\n",
      "INFO:tensorflow:global_step/sec: 326.882\n",
      "INFO:tensorflow:loss = 142284400000.0, step = 16400 (0.306 sec)\n",
      "INFO:tensorflow:global_step/sec: 338.698\n",
      "INFO:tensorflow:loss = 30035583000.0, step = 16500 (0.295 sec)\n",
      "INFO:tensorflow:global_step/sec: 329.052\n",
      "INFO:tensorflow:loss = 69337560000.0, step = 16600 (0.303 sec)\n",
      "INFO:tensorflow:global_step/sec: 356.688\n",
      "INFO:tensorflow:loss = 104245640000.0, step = 16700 (0.281 sec)\n",
      "INFO:tensorflow:global_step/sec: 332.982\n",
      "INFO:tensorflow:loss = 67204477000.0, step = 16800 (0.300 sec)\n",
      "INFO:tensorflow:global_step/sec: 313.579\n",
      "INFO:tensorflow:loss = 155919560000.0, step = 16900 (0.318 sec)\n",
      "INFO:tensorflow:global_step/sec: 345.743\n",
      "INFO:tensorflow:loss = 69141635000.0, step = 17000 (0.290 sec)\n",
      "INFO:tensorflow:global_step/sec: 339.245\n",
      "INFO:tensorflow:loss = 79819740000.0, step = 17100 (0.294 sec)\n",
      "INFO:tensorflow:global_step/sec: 303.828\n",
      "INFO:tensorflow:loss = 187293610000.0, step = 17200 (0.330 sec)\n",
      "INFO:tensorflow:global_step/sec: 324.041\n",
      "INFO:tensorflow:loss = 40734585000.0, step = 17300 (0.309 sec)\n",
      "INFO:tensorflow:global_step/sec: 354.193\n",
      "INFO:tensorflow:loss = 125226566000.0, step = 17400 (0.282 sec)\n",
      "INFO:tensorflow:global_step/sec: 327.788\n",
      "INFO:tensorflow:loss = 61246804000.0, step = 17500 (0.305 sec)\n",
      "INFO:tensorflow:global_step/sec: 333.29\n",
      "INFO:tensorflow:loss = 155972400000.0, step = 17600 (0.300 sec)\n",
      "INFO:tensorflow:global_step/sec: 330.062\n",
      "INFO:tensorflow:loss = 111871680000.0, step = 17700 (0.303 sec)\n",
      "INFO:tensorflow:global_step/sec: 326.868\n",
      "INFO:tensorflow:loss = 181234470000.0, step = 17800 (0.305 sec)\n",
      "INFO:tensorflow:global_step/sec: 348.115\n",
      "INFO:tensorflow:loss = 60520526000.0, step = 17900 (0.288 sec)\n",
      "INFO:tensorflow:global_step/sec: 333.932\n",
      "INFO:tensorflow:loss = 282504560000.0, step = 18000 (0.300 sec)\n",
      "INFO:tensorflow:global_step/sec: 335.671\n",
      "INFO:tensorflow:loss = 52411410000.0, step = 18100 (0.299 sec)\n",
      "INFO:tensorflow:global_step/sec: 332.914\n",
      "INFO:tensorflow:loss = 41230450000.0, step = 18200 (0.300 sec)\n",
      "INFO:tensorflow:global_step/sec: 323.147\n",
      "INFO:tensorflow:loss = 56643125000.0, step = 18300 (0.308 sec)\n",
      "INFO:tensorflow:global_step/sec: 334.815\n",
      "INFO:tensorflow:loss = 63757926000.0, step = 18400 (0.301 sec)\n",
      "INFO:tensorflow:global_step/sec: 331.076\n",
      "INFO:tensorflow:loss = 106457270000.0, step = 18500 (0.301 sec)\n",
      "INFO:tensorflow:global_step/sec: 325.018\n",
      "INFO:tensorflow:loss = 143331930000.0, step = 18600 (0.308 sec)\n",
      "INFO:tensorflow:global_step/sec: 336.568\n",
      "INFO:tensorflow:loss = 85877940000.0, step = 18700 (0.299 sec)\n",
      "INFO:tensorflow:global_step/sec: 325.342\n",
      "INFO:tensorflow:loss = 167797160000.0, step = 18800 (0.307 sec)\n",
      "INFO:tensorflow:global_step/sec: 312.194\n",
      "INFO:tensorflow:loss = 106320100000.0, step = 18900 (0.320 sec)\n",
      "INFO:tensorflow:global_step/sec: 327.124\n",
      "INFO:tensorflow:loss = 52483590000.0, step = 19000 (0.306 sec)\n",
      "INFO:tensorflow:global_step/sec: 326.767\n",
      "INFO:tensorflow:loss = 200385530000.0, step = 19100 (0.304 sec)\n",
      "INFO:tensorflow:global_step/sec: 325.867\n",
      "INFO:tensorflow:loss = 180957090000.0, step = 19200 (0.309 sec)\n",
      "INFO:tensorflow:global_step/sec: 329.447\n",
      "INFO:tensorflow:loss = 130075000000.0, step = 19300 (0.302 sec)\n",
      "INFO:tensorflow:global_step/sec: 346.378\n",
      "INFO:tensorflow:loss = 36078354000.0, step = 19400 (0.289 sec)\n",
      "INFO:tensorflow:global_step/sec: 348.752\n",
      "INFO:tensorflow:loss = 118950850000.0, step = 19500 (0.287 sec)\n",
      "INFO:tensorflow:global_step/sec: 345.07\n",
      "INFO:tensorflow:loss = 53824500000.0, step = 19600 (0.290 sec)\n",
      "INFO:tensorflow:global_step/sec: 331.069\n",
      "INFO:tensorflow:loss = 74475960000.0, step = 19700 (0.301 sec)\n",
      "INFO:tensorflow:global_step/sec: 351.369\n",
      "INFO:tensorflow:loss = 136151080000.0, step = 19800 (0.285 sec)\n",
      "INFO:tensorflow:global_step/sec: 330.681\n",
      "INFO:tensorflow:loss = 156752860000.0, step = 19900 (0.305 sec)\n",
      "INFO:tensorflow:global_step/sec: 332.708\n",
      "INFO:tensorflow:loss = 90062580000.0, step = 20000 (0.300 sec)\n",
      "INFO:tensorflow:global_step/sec: 335.206\n",
      "INFO:tensorflow:loss = 47863304000.0, step = 20100 (0.296 sec)\n",
      "INFO:tensorflow:global_step/sec: 349.992\n",
      "INFO:tensorflow:loss = 30753563000.0, step = 20200 (0.285 sec)\n",
      "INFO:tensorflow:global_step/sec: 344.542\n",
      "INFO:tensorflow:loss = 124870160000.0, step = 20300 (0.291 sec)\n",
      "INFO:tensorflow:global_step/sec: 335.83\n",
      "INFO:tensorflow:loss = 101878930000.0, step = 20400 (0.299 sec)\n",
      "INFO:tensorflow:global_step/sec: 326.3\n",
      "INFO:tensorflow:loss = 72752130000.0, step = 20500 (0.305 sec)\n",
      "INFO:tensorflow:global_step/sec: 335.988\n",
      "INFO:tensorflow:loss = 153429200000.0, step = 20600 (0.298 sec)\n",
      "INFO:tensorflow:global_step/sec: 334.747\n",
      "INFO:tensorflow:loss = 229104250000.0, step = 20700 (0.299 sec)\n",
      "INFO:tensorflow:global_step/sec: 334.349\n",
      "INFO:tensorflow:loss = 88037370000.0, step = 20800 (0.300 sec)\n",
      "INFO:tensorflow:global_step/sec: 312.937\n",
      "INFO:tensorflow:loss = 29390170000.0, step = 20900 (0.319 sec)\n",
      "INFO:tensorflow:global_step/sec: 351.762\n",
      "INFO:tensorflow:loss = 95002436000.0, step = 21000 (0.284 sec)\n",
      "INFO:tensorflow:global_step/sec: 355.307\n",
      "INFO:tensorflow:loss = 106969330000.0, step = 21100 (0.283 sec)\n",
      "INFO:tensorflow:global_step/sec: 293.269\n",
      "INFO:tensorflow:loss = 120243600000.0, step = 21200 (0.339 sec)\n",
      "INFO:tensorflow:global_step/sec: 341.121\n",
      "INFO:tensorflow:loss = 131754030000.0, step = 21300 (0.295 sec)\n",
      "INFO:tensorflow:global_step/sec: 320.565\n",
      "INFO:tensorflow:loss = 176484420000.0, step = 21400 (0.312 sec)\n",
      "INFO:tensorflow:global_step/sec: 327.137\n",
      "INFO:tensorflow:loss = 100892200000.0, step = 21500 (0.305 sec)\n",
      "INFO:tensorflow:global_step/sec: 318.471\n",
      "INFO:tensorflow:loss = 35319874000.0, step = 21600 (0.313 sec)\n",
      "INFO:tensorflow:global_step/sec: 318.894\n",
      "INFO:tensorflow:loss = 173019640000.0, step = 21700 (0.314 sec)\n",
      "INFO:tensorflow:global_step/sec: 319.405\n",
      "INFO:tensorflow:loss = 154959250000.0, step = 21800 (0.314 sec)\n",
      "INFO:tensorflow:global_step/sec: 331.221\n",
      "INFO:tensorflow:loss = 49567097000.0, step = 21900 (0.300 sec)\n",
      "INFO:tensorflow:global_step/sec: 344.33\n",
      "INFO:tensorflow:loss = 81700100000.0, step = 22000 (0.291 sec)\n",
      "INFO:tensorflow:global_step/sec: 349.406\n",
      "INFO:tensorflow:loss = 110604600000.0, step = 22100 (0.286 sec)\n",
      "INFO:tensorflow:global_step/sec: 340.197\n",
      "INFO:tensorflow:loss = 158466850000.0, step = 22200 (0.293 sec)\n",
      "INFO:tensorflow:global_step/sec: 328.565\n",
      "INFO:tensorflow:loss = 126004200000.0, step = 22300 (0.304 sec)\n",
      "INFO:tensorflow:global_step/sec: 342.836\n",
      "INFO:tensorflow:loss = 116693190000.0, step = 22400 (0.294 sec)\n",
      "INFO:tensorflow:global_step/sec: 324.553\n",
      "INFO:tensorflow:loss = 124781120000.0, step = 22500 (0.306 sec)\n",
      "INFO:tensorflow:global_step/sec: 331.771\n",
      "INFO:tensorflow:loss = 164232150000.0, step = 22600 (0.302 sec)\n",
      "INFO:tensorflow:global_step/sec: 333.741\n",
      "INFO:tensorflow:loss = 74099260000.0, step = 22700 (0.299 sec)\n",
      "INFO:tensorflow:global_step/sec: 354.86\n",
      "INFO:tensorflow:loss = 33678158000.0, step = 22800 (0.284 sec)\n",
      "INFO:tensorflow:global_step/sec: 306.301\n",
      "INFO:tensorflow:loss = 42067497000.0, step = 22900 (0.326 sec)\n",
      "INFO:tensorflow:global_step/sec: 318.116\n",
      "INFO:tensorflow:loss = 102135430000.0, step = 23000 (0.314 sec)\n",
      "INFO:tensorflow:global_step/sec: 320.752\n",
      "INFO:tensorflow:loss = 54835030000.0, step = 23100 (0.312 sec)\n",
      "INFO:tensorflow:global_step/sec: 315.944\n",
      "INFO:tensorflow:loss = 71456790000.0, step = 23200 (0.316 sec)\n",
      "INFO:tensorflow:global_step/sec: 344.027\n",
      "INFO:tensorflow:loss = 82692910000.0, step = 23300 (0.291 sec)\n",
      "INFO:tensorflow:global_step/sec: 329.321\n",
      "INFO:tensorflow:loss = 62961705000.0, step = 23400 (0.304 sec)\n"
     ]
    },
    {
     "name": "stdout",
     "output_type": "stream",
     "text": [
      "INFO:tensorflow:global_step/sec: 344.756\n",
      "INFO:tensorflow:loss = 142379630000.0, step = 23500 (0.289 sec)\n",
      "INFO:tensorflow:global_step/sec: 338.177\n",
      "INFO:tensorflow:loss = 88393730000.0, step = 23600 (0.296 sec)\n",
      "INFO:tensorflow:global_step/sec: 333.307\n",
      "INFO:tensorflow:loss = 57613267000.0, step = 23700 (0.300 sec)\n",
      "INFO:tensorflow:global_step/sec: 332.471\n",
      "INFO:tensorflow:loss = 47859200000.0, step = 23800 (0.301 sec)\n",
      "INFO:tensorflow:global_step/sec: 326.342\n",
      "INFO:tensorflow:loss = 87773570000.0, step = 23900 (0.308 sec)\n",
      "INFO:tensorflow:global_step/sec: 328.269\n",
      "INFO:tensorflow:loss = 91657780000.0, step = 24000 (0.306 sec)\n",
      "INFO:tensorflow:global_step/sec: 304.383\n",
      "INFO:tensorflow:loss = 154596020000.0, step = 24100 (0.325 sec)\n",
      "INFO:tensorflow:global_step/sec: 330.474\n",
      "INFO:tensorflow:loss = 61443010000.0, step = 24200 (0.303 sec)\n",
      "INFO:tensorflow:global_step/sec: 347.775\n",
      "INFO:tensorflow:loss = 172844090000.0, step = 24300 (0.287 sec)\n",
      "INFO:tensorflow:global_step/sec: 337.857\n",
      "INFO:tensorflow:loss = 33376006000.0, step = 24400 (0.296 sec)\n",
      "INFO:tensorflow:global_step/sec: 361.435\n",
      "INFO:tensorflow:loss = 67190792000.0, step = 24500 (0.279 sec)\n",
      "INFO:tensorflow:global_step/sec: 333.369\n",
      "INFO:tensorflow:loss = 122264080000.0, step = 24600 (0.298 sec)\n",
      "INFO:tensorflow:global_step/sec: 311.024\n",
      "INFO:tensorflow:loss = 82629640000.0, step = 24700 (0.322 sec)\n",
      "INFO:tensorflow:global_step/sec: 336.07\n",
      "INFO:tensorflow:loss = 144857810000.0, step = 24800 (0.297 sec)\n",
      "INFO:tensorflow:global_step/sec: 305.106\n",
      "INFO:tensorflow:loss = 73300500000.0, step = 24900 (0.329 sec)\n",
      "INFO:tensorflow:Saving checkpoints for 25000 into /tmp/tmpf9tikfya/model.ckpt.\n",
      "INFO:tensorflow:Loss for final step: 77635970000.0.\n"
     ]
    },
    {
     "data": {
      "text/plain": [
       "<tensorflow.python.estimator.canned.dnn.DNNRegressor at 0x7f46a7fb4828>"
      ]
     },
     "execution_count": 52,
     "metadata": {},
     "output_type": "execute_result"
    }
   ],
   "source": [
    "model.train(input_fn=input_func, steps=25000)"
   ]
  },
  {
   "cell_type": "markdown",
   "metadata": {},
   "source": [
    "** Create a prediction input function and then use the .predict method off your estimator model to create a list or predictions on your test data. **"
   ]
  },
  {
   "cell_type": "code",
   "execution_count": 64,
   "metadata": {},
   "outputs": [],
   "source": [
    "predict_input_func = tf.estimator.inputs.pandas_input_fn(\n",
    "      x=X_test,\n",
    "      batch_size=10,\n",
    "      num_epochs=1,\n",
    "      shuffle=False)"
   ]
  },
  {
   "cell_type": "code",
   "execution_count": 65,
   "metadata": {},
   "outputs": [],
   "source": [
    "pred_gen = model.predict(predict_input_func)"
   ]
  },
  {
   "cell_type": "code",
   "execution_count": 66,
   "metadata": {},
   "outputs": [
    {
     "name": "stdout",
     "output_type": "stream",
     "text": [
      "INFO:tensorflow:Calling model_fn.\n",
      "INFO:tensorflow:Done calling model_fn.\n",
      "INFO:tensorflow:Graph was finalized.\n",
      "INFO:tensorflow:Restoring parameters from /tmp/tmpf9tikfya/model.ckpt-25000\n",
      "INFO:tensorflow:Running local_init_op.\n",
      "INFO:tensorflow:Done running local_init_op.\n"
     ]
    }
   ],
   "source": [
    "predictions = list(pred_gen)"
   ]
  },
  {
   "cell_type": "markdown",
   "metadata": {},
   "source": [
    "** Calculate the RMSE. You should be able to get around 100,000 RMSE (remember that this is in the same units as the label.) Do this manually or use [sklearn.metrics](http://scikit-learn.org/stable/modules/generated/sklearn.metrics.mean_squared_error.html) **"
   ]
  },
  {
   "cell_type": "code",
   "execution_count": 67,
   "metadata": {},
   "outputs": [],
   "source": [
    "final_preds = []\n",
    "for pred in predictions:\n",
    "    final_preds.append(pred['predictions'])"
   ]
  },
  {
   "cell_type": "code",
   "execution_count": 68,
   "metadata": {},
   "outputs": [],
   "source": [
    "from sklearn.metrics import mean_squared_error"
   ]
  },
  {
   "cell_type": "code",
   "execution_count": 72,
   "metadata": {},
   "outputs": [
    {
     "data": {
      "text/plain": [
       "100475.97786824287"
      ]
     },
     "execution_count": 72,
     "metadata": {},
     "output_type": "execute_result"
    }
   ],
   "source": [
    "mean_squared_error(y_test,final_preds)**0.5"
   ]
  },
  {
   "cell_type": "markdown",
   "metadata": {},
   "source": [
    "# Great Job!"
   ]
  },
  {
   "cell_type": "code",
   "execution_count": null,
   "metadata": {},
   "outputs": [],
   "source": []
  },
  {
   "cell_type": "code",
   "execution_count": null,
   "metadata": {},
   "outputs": [],
   "source": []
  }
 ],
 "metadata": {
  "kernelspec": {
   "display_name": "Python 3",
   "language": "python",
   "name": "python3"
  },
  "language_info": {
   "codemirror_mode": {
    "name": "ipython",
    "version": 3
   },
   "file_extension": ".py",
   "mimetype": "text/x-python",
   "name": "python",
   "nbconvert_exporter": "python",
   "pygments_lexer": "ipython3",
   "version": "3.6.5"
  }
 },
 "nbformat": 4,
 "nbformat_minor": 2
}
